{
 "cells": [
  {
   "cell_type": "code",
   "execution_count": 1,
   "id": "01567277-6377-4c3c-bb0a-64f78d40b3cd",
   "metadata": {},
   "outputs": [],
   "source": [
    "x=2"
   ]
  },
  {
   "cell_type": "code",
   "execution_count": 2,
   "id": "b426cde3-69e0-40a2-a74c-106e7b85d061",
   "metadata": {},
   "outputs": [],
   "source": [
    "y=10.2"
   ]
  },
  {
   "cell_type": "code",
   "execution_count": 3,
   "id": "8ed71fe9-91be-4878-9b9d-42571414ec73",
   "metadata": {},
   "outputs": [
    {
     "data": {
      "text/plain": [
       "int"
      ]
     },
     "execution_count": 3,
     "metadata": {},
     "output_type": "execute_result"
    }
   ],
   "source": [
    "type(x)"
   ]
  },
  {
   "cell_type": "code",
   "execution_count": 4,
   "id": "876aa61c-79b1-4b47-81b8-dadf39186d01",
   "metadata": {},
   "outputs": [
    {
     "data": {
      "text/plain": [
       "float"
      ]
     },
     "execution_count": 4,
     "metadata": {},
     "output_type": "execute_result"
    }
   ],
   "source": [
    "type(y)"
   ]
  },
  {
   "cell_type": "code",
   "execution_count": 5,
   "id": "d92bedb2-c7aa-4ad3-817d-56ad4afce876",
   "metadata": {},
   "outputs": [],
   "source": [
    "z='hello'"
   ]
  },
  {
   "cell_type": "code",
   "execution_count": 6,
   "id": "4198f813-0045-45a4-825e-70f616c01483",
   "metadata": {},
   "outputs": [
    {
     "data": {
      "text/plain": [
       "str"
      ]
     },
     "execution_count": 6,
     "metadata": {},
     "output_type": "execute_result"
    }
   ],
   "source": [
    "type(z)"
   ]
  },
  {
   "cell_type": "code",
   "execution_count": 7,
   "id": "b9b74430-6327-4cd8-a8c7-9f4825f4ee7c",
   "metadata": {},
   "outputs": [],
   "source": [
    "c='c'"
   ]
  },
  {
   "cell_type": "code",
   "execution_count": 8,
   "id": "cc59424b-279d-47f1-b06e-d2b5b1b7c86b",
   "metadata": {},
   "outputs": [
    {
     "data": {
      "text/plain": [
       "str"
      ]
     },
     "execution_count": 8,
     "metadata": {},
     "output_type": "execute_result"
    }
   ],
   "source": [
    "type(c)\n"
   ]
  },
  {
   "cell_type": "code",
   "execution_count": 9,
   "id": "cfd79075-bc2a-4d08-9180-0b0185dcb6cc",
   "metadata": {},
   "outputs": [],
   "source": [
    "# in python we dont have char"
   ]
  },
  {
   "cell_type": "code",
   "execution_count": 10,
   "id": "c8873dca-baaf-43e5-b8a8-ba553b9660ff",
   "metadata": {},
   "outputs": [],
   "source": [
    "verylargenumber =347333333333333333333333333333333333333333333"
   ]
  },
  {
   "cell_type": "code",
   "execution_count": 11,
   "id": "59eb42de-8c83-489b-bee3-65cca023e328",
   "metadata": {},
   "outputs": [
    {
     "data": {
      "text/plain": [
       "int"
      ]
     },
     "execution_count": 11,
     "metadata": {},
     "output_type": "execute_result"
    }
   ],
   "source": [
    "type(verylargenumber)"
   ]
  },
  {
   "cell_type": "code",
   "execution_count": 13,
   "id": "c4b0b4c6-00bd-469b-8db2-339397b8518b",
   "metadata": {},
   "outputs": [],
   "source": [
    "#our variables are unbounded(int)"
   ]
  },
  {
   "cell_type": "code",
   "execution_count": 15,
   "id": "4210de62-3e71-4774-8c14-84f651faa562",
   "metadata": {},
   "outputs": [],
   "source": [
    "# there are 6 category and 14 types of of data type"
   ]
  },
  {
   "cell_type": "code",
   "execution_count": 16,
   "id": "758ee079-48cc-4561-a909-224b96ca2963",
   "metadata": {},
   "outputs": [],
   "source": [
    "#1Numeric - int,float.complex"
   ]
  },
  {
   "cell_type": "code",
   "execution_count": 17,
   "id": "6cdd6d6d-5aa7-4be9-a2ae-17a1917d8595",
   "metadata": {},
   "outputs": [],
   "source": [
    "#2Boolean - bool"
   ]
  },
  {
   "cell_type": "code",
   "execution_count": 18,
   "id": "c92266aa-9dab-485f-87f7-e14b9191fb99",
   "metadata": {},
   "outputs": [],
   "source": [
    "#3sequence -str,list,bytes,bytes array,tuple, range"
   ]
  },
  {
   "cell_type": "code",
   "execution_count": 19,
   "id": "7864d594-0194-46ec-9355-c4735c00c0f7",
   "metadata": {},
   "outputs": [],
   "source": [
    "#4set set,frozen set"
   ]
  },
  {
   "cell_type": "code",
   "execution_count": 20,
   "id": "3facd8d8-b9ac-4884-b10e-13ab2761969b",
   "metadata": {},
   "outputs": [],
   "source": [
    "#5 Mapping dict"
   ]
  },
  {
   "cell_type": "code",
   "execution_count": 21,
   "id": "bfb310ca-9357-4b9a-92f4-ae09a1a62bb9",
   "metadata": {},
   "outputs": [],
   "source": [
    "#6None none type"
   ]
  },
  {
   "cell_type": "code",
   "execution_count": 22,
   "id": "df08301d-21ee-47cb-8029-000b110325c3",
   "metadata": {},
   "outputs": [],
   "source": [
    "#Properties of data types in python"
   ]
  },
  {
   "cell_type": "code",
   "execution_count": 25,
   "id": "515404ee-754d-4225-b460-5793b01fb8a6",
   "metadata": {},
   "outputs": [],
   "source": [
    "#1 Data types are dynamic"
   ]
  },
  {
   "cell_type": "code",
   "execution_count": 27,
   "id": "d5063ae0-eca5-4068-bf5f-836bdc052a85",
   "metadata": {},
   "outputs": [],
   "source": [
    "#2 size of data type is also dynamic"
   ]
  },
  {
   "cell_type": "code",
   "execution_count": 29,
   "id": "11bcb767-0eda-4ee6-8192-2e5b2cdf85cc",
   "metadata": {},
   "outputs": [],
   "source": [
    "#3 data types are unbounded bcoz of property 2, size is dynamic"
   ]
  },
  {
   "cell_type": "code",
   "execution_count": null,
   "id": "978be9d0-ca97-4fb0-a208-96f645ef0763",
   "metadata": {},
   "outputs": [],
   "source": []
  },
  {
   "cell_type": "code",
   "execution_count": null,
   "id": "004fee26-4833-4af8-8dcf-1c6529da9223",
   "metadata": {},
   "outputs": [],
   "source": [
    "#Numeric data type"
   ]
  },
  {
   "cell_type": "code",
   "execution_count": 30,
   "id": "749235ac-2e8f-49a0-a23a-43b597880280",
   "metadata": {},
   "outputs": [],
   "source": [
    "#floating value just like java/c, floating poiint precision is 16"
   ]
  },
  {
   "cell_type": "code",
   "execution_count": 34,
   "id": "3c26d8b3-3e38-4d5a-ae8a-5ea29886eb53",
   "metadata": {},
   "outputs": [],
   "source": [
    "precision=1.12456789012345678"
   ]
  },
  {
   "cell_type": "code",
   "execution_count": 35,
   "id": "ec269a95-56a4-443b-826d-bdd3acb737c0",
   "metadata": {},
   "outputs": [
    {
     "data": {
      "text/plain": [
       "1.1245678901234568"
      ]
     },
     "execution_count": 35,
     "metadata": {},
     "output_type": "execute_result"
    }
   ],
   "source": [
    "precision"
   ]
  },
  {
   "cell_type": "code",
   "execution_count": 36,
   "id": "198850f2-1b68-4250-9f30-a22cc419ef90",
   "metadata": {},
   "outputs": [],
   "source": [
    "exp=1e5"
   ]
  },
  {
   "cell_type": "code",
   "execution_count": 37,
   "id": "12b5bdaf-fe4c-4537-959f-8804ccd4b7a7",
   "metadata": {},
   "outputs": [
    {
     "data": {
      "text/plain": [
       "100000.0"
      ]
     },
     "execution_count": 37,
     "metadata": {},
     "output_type": "execute_result"
    }
   ],
   "source": [
    "exp"
   ]
  },
  {
   "cell_type": "code",
   "execution_count": 38,
   "id": "cb641aed-05d0-40d4-b4e8-b148e76def52",
   "metadata": {},
   "outputs": [],
   "source": [
    "exp=5e5"
   ]
  },
  {
   "cell_type": "code",
   "execution_count": 39,
   "id": "27d1ac21-8553-4101-a327-b72e0b4da956",
   "metadata": {},
   "outputs": [
    {
     "data": {
      "text/plain": [
       "500000.0"
      ]
     },
     "execution_count": 39,
     "metadata": {},
     "output_type": "execute_result"
    }
   ],
   "source": [
    "exp"
   ]
  },
  {
   "cell_type": "code",
   "execution_count": 40,
   "id": "bf3e72c1-96c5-4710-b7b2-eaf47a4228fd",
   "metadata": {},
   "outputs": [
    {
     "ename": "SyntaxError",
     "evalue": "invalid decimal literal (1851841064.py, line 1)",
     "output_type": "error",
     "traceback": [
      "\u001b[0;36m  Cell \u001b[0;32mIn[40], line 1\u001b[0;36m\u001b[0m\n\u001b[0;31m    x=2+3m\u001b[0m\n\u001b[0m        ^\u001b[0m\n\u001b[0;31mSyntaxError\u001b[0m\u001b[0;31m:\u001b[0m invalid decimal literal\n"
     ]
    }
   ],
   "source": [
    "x=2+3m"
   ]
  },
  {
   "cell_type": "code",
   "execution_count": 41,
   "id": "b09fa7e5-ccf7-4cbf-934f-7d5ac528efaa",
   "metadata": {},
   "outputs": [],
   "source": [
    "x=2+3j"
   ]
  },
  {
   "cell_type": "code",
   "execution_count": 42,
   "id": "0f2a9725-75ba-4c23-a571-d993d22693cf",
   "metadata": {},
   "outputs": [
    {
     "ename": "SyntaxError",
     "evalue": "invalid decimal literal (1709933530.py, line 1)",
     "output_type": "error",
     "traceback": [
      "\u001b[0;36m  Cell \u001b[0;32mIn[42], line 1\u001b[0;36m\u001b[0m\n\u001b[0;31m    y=2+3i\u001b[0m\n\u001b[0m        ^\u001b[0m\n\u001b[0;31mSyntaxError\u001b[0m\u001b[0;31m:\u001b[0m invalid decimal literal\n"
     ]
    }
   ],
   "source": [
    "y=2+3i"
   ]
  },
  {
   "cell_type": "code",
   "execution_count": 43,
   "id": "0383bd82-e447-4c92-a407-5784fe7b4bf5",
   "metadata": {},
   "outputs": [],
   "source": [
    "#only j can be used in imaginary variable"
   ]
  },
  {
   "cell_type": "code",
   "execution_count": 44,
   "id": "1fadf7b9-7154-42ca-ae96-f231837853a3",
   "metadata": {},
   "outputs": [],
   "source": [
    "#conditional statements, in backend True stored as 1, False stored as 0"
   ]
  },
  {
   "cell_type": "code",
   "execution_count": 45,
   "id": "d0964acb-6f79-4c8d-8af4-d47f8faf9cd3",
   "metadata": {},
   "outputs": [],
   "source": [
    "#so True+True=2"
   ]
  },
  {
   "cell_type": "code",
   "execution_count": 46,
   "id": "95e72444-deea-4d62-8fa6-56fd898557a8",
   "metadata": {},
   "outputs": [
    {
     "data": {
      "text/plain": [
       "2"
      ]
     },
     "execution_count": 46,
     "metadata": {},
     "output_type": "execute_result"
    }
   ],
   "source": [
    "True+True"
   ]
  },
  {
   "cell_type": "code",
   "execution_count": 47,
   "id": "820da3ed-dc41-41ef-89b0-755bf6f0c173",
   "metadata": {},
   "outputs": [
    {
     "data": {
      "text/plain": [
       "1"
      ]
     },
     "execution_count": 47,
     "metadata": {},
     "output_type": "execute_result"
    }
   ],
   "source": [
    "False+True"
   ]
  },
  {
   "cell_type": "code",
   "execution_count": 48,
   "id": "2a87ce22-133a-47e7-9d5d-11175c8798d4",
   "metadata": {},
   "outputs": [
    {
     "data": {
      "text/plain": [
       "True"
      ]
     },
     "execution_count": 48,
     "metadata": {},
     "output_type": "execute_result"
    }
   ],
   "source": [
    "1==True"
   ]
  },
  {
   "cell_type": "code",
   "execution_count": 49,
   "id": "e007b456-aa16-44cb-9fd9-4580ce51701a",
   "metadata": {},
   "outputs": [
    {
     "data": {
      "text/plain": [
       "True"
      ]
     },
     "execution_count": 49,
     "metadata": {},
     "output_type": "execute_result"
    }
   ],
   "source": [
    "0==False"
   ]
  },
  {
   "cell_type": "code",
   "execution_count": 50,
   "id": "07b2a361-1b94-4ec5-9d1e-23836d25dd3e",
   "metadata": {},
   "outputs": [],
   "source": [
    "#string-- sequence of characters"
   ]
  },
  {
   "cell_type": "code",
   "execution_count": 51,
   "id": "b6010c2b-a3cb-48bd-b850-b0668fb62a15",
   "metadata": {},
   "outputs": [],
   "source": [
    "# no char type like c++/java"
   ]
  },
  {
   "cell_type": "code",
   "execution_count": 52,
   "id": "f561950e-7d38-47fa-b464-27f90697557b",
   "metadata": {},
   "outputs": [],
   "source": [
    "## Muku's Code"
   ]
  },
  {
   "cell_type": "code",
   "execution_count": 53,
   "id": "733dbc60-fd7a-43ea-afef-cd3f327459b0",
   "metadata": {},
   "outputs": [],
   "source": [
    "## Let us \"Code\""
   ]
  },
  {
   "cell_type": "code",
   "execution_count": 54,
   "id": "707c76fd-eab3-472c-adbe-ed79086012a4",
   "metadata": {},
   "outputs": [],
   "source": [
    "#Let's \"Code\" how to store these in python variables"
   ]
  },
  {
   "cell_type": "code",
   "execution_count": 64,
   "id": "b23f6321-b6bf-4000-84e8-1418960a4f7e",
   "metadata": {},
   "outputs": [],
   "source": [
    "a='Let\\\\\\'s \"Code\"'"
   ]
  },
  {
   "cell_type": "code",
   "execution_count": 65,
   "id": "c350c4e3-b76c-4c9b-a73d-93812480ddc6",
   "metadata": {},
   "outputs": [
    {
     "data": {
      "text/plain": [
       "'Let\\\\\\'s \"Code\"'"
      ]
     },
     "execution_count": 65,
     "metadata": {},
     "output_type": "execute_result"
    }
   ],
   "source": [
    "a"
   ]
  },
  {
   "cell_type": "code",
   "execution_count": null,
   "id": "63b22c98-38cf-4653-b769-76a3d2ee7d58",
   "metadata": {},
   "outputs": [],
   "source": []
  }
 ],
 "metadata": {
  "kernelspec": {
   "display_name": "Python 3 (ipykernel)",
   "language": "python",
   "name": "python3"
  },
  "language_info": {
   "codemirror_mode": {
    "name": "ipython",
    "version": 3
   },
   "file_extension": ".py",
   "mimetype": "text/x-python",
   "name": "python",
   "nbconvert_exporter": "python",
   "pygments_lexer": "ipython3",
   "version": "3.10.12"
  }
 },
 "nbformat": 4,
 "nbformat_minor": 5
}
