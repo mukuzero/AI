{
 "cells": [
  {
   "cell_type": "code",
   "execution_count": 7,
   "id": "682b465f-5a25-4f12-98b6-f0fcd800d918",
   "metadata": {
    "tags": []
   },
   "outputs": [],
   "source": [
    "_ = 20"
   ]
  },
  {
   "cell_type": "code",
   "execution_count": 8,
   "id": "5a290580-0bc7-4594-b3e2-2c1b694e3c4d",
   "metadata": {
    "tags": []
   },
   "outputs": [],
   "source": [
    "del _"
   ]
  },
  {
   "cell_type": "code",
   "execution_count": 9,
   "id": "cb6ce87c-af00-4d5e-a218-f227d0ab430c",
   "metadata": {
    "tags": []
   },
   "outputs": [
    {
     "ename": "NameError",
     "evalue": "name '_' is not defined",
     "output_type": "error",
     "traceback": [
      "\u001b[0;31m---------------------------------------------------------------------------\u001b[0m",
      "\u001b[0;31mNameError\u001b[0m                                 Traceback (most recent call last)",
      "Cell \u001b[0;32mIn[9], line 1\u001b[0m\n\u001b[0;32m----> 1\u001b[0m \u001b[38;5;28mprint\u001b[39m(\u001b[43m_\u001b[49m)\n",
      "\u001b[0;31mNameError\u001b[0m: name '_' is not defined"
     ]
    }
   ],
   "source": [
    "print(_)"
   ]
  },
  {
   "cell_type": "code",
   "execution_count": 10,
   "id": "65ad97ed-201a-4c9d-b792-d04a13573a16",
   "metadata": {
    "tags": []
   },
   "outputs": [
    {
     "ename": "SyntaxError",
     "evalue": "invalid syntax (743397545.py, line 1)",
     "output_type": "error",
     "traceback": [
      "\u001b[0;36m  Cell \u001b[0;32mIn[10], line 1\u001b[0;36m\u001b[0m\n\u001b[0;31m    def raise():\u001b[0m\n\u001b[0m        ^\u001b[0m\n\u001b[0;31mSyntaxError\u001b[0m\u001b[0;31m:\u001b[0m invalid syntax\n"
     ]
    }
   ],
   "source": [
    "def raise():\n",
    "    print(\"hi\")"
   ]
  },
  {
   "cell_type": "code",
   "execution_count": 11,
   "id": "c8500d14-5f0d-44a1-a6d0-03fd027a87b3",
   "metadata": {},
   "outputs": [],
   "source": [
    "#The raise keyword is used to raise an exception."
   ]
  },
  {
   "cell_type": "code",
   "execution_count": 12,
   "id": "4363ff1b-af65-4e8c-90ad-c7be68c70e12",
   "metadata": {
    "tags": []
   },
   "outputs": [],
   "source": [
    "def sum_with_return(a,b):\n",
    "    c =a+b\n",
    "    return c\n"
   ]
  },
  {
   "cell_type": "code",
   "execution_count": 13,
   "id": "1ea339f3-b8d3-43b1-9333-f19100bfd06b",
   "metadata": {
    "tags": []
   },
   "outputs": [],
   "source": [
    "c = sum_with_return(5,10)"
   ]
  },
  {
   "cell_type": "code",
   "execution_count": 14,
   "id": "909d8c0d-6c80-42a0-93e5-6f5709b9ab83",
   "metadata": {
    "tags": []
   },
   "outputs": [
    {
     "data": {
      "text/plain": [
       "15"
      ]
     },
     "execution_count": 14,
     "metadata": {},
     "output_type": "execute_result"
    }
   ],
   "source": [
    "c"
   ]
  },
  {
   "cell_type": "code",
   "execution_count": 15,
   "id": "0f1c09b2-3e8f-4445-91e5-a207dc959552",
   "metadata": {
    "tags": []
   },
   "outputs": [],
   "source": [
    "def sum_without_return(a,b):\n",
    "    c = a/b"
   ]
  },
  {
   "cell_type": "code",
   "execution_count": 16,
   "id": "cf4077b7-bf52-4766-86f5-97c41d85ea06",
   "metadata": {
    "tags": []
   },
   "outputs": [
    {
     "name": "stdout",
     "output_type": "stream",
     "text": [
      "Hello\n"
     ]
    }
   ],
   "source": [
    "sum_without_return(10,5)\n",
    "print(\"Hello\")"
   ]
  },
  {
   "cell_type": "code",
   "execution_count": 17,
   "id": "ec104e42-de10-4180-80f5-eaeeb2489287",
   "metadata": {
    "tags": []
   },
   "outputs": [
    {
     "ename": "TypeError",
     "evalue": "sum_with_return() missing 1 required positional argument: 'b'",
     "output_type": "error",
     "traceback": [
      "\u001b[0;31m---------------------------------------------------------------------------\u001b[0m",
      "\u001b[0;31mTypeError\u001b[0m                                 Traceback (most recent call last)",
      "Cell \u001b[0;32mIn[17], line 1\u001b[0m\n\u001b[0;32m----> 1\u001b[0m \u001b[43msum_with_return\u001b[49m\u001b[43m(\u001b[49m\u001b[38;5;241;43m10\u001b[39;49m\u001b[43m,\u001b[49m\u001b[43m)\u001b[49m\n",
      "\u001b[0;31mTypeError\u001b[0m: sum_with_return() missing 1 required positional argument: 'b'"
     ]
    }
   ],
   "source": [
    "sum_with_return(10,)"
   ]
  },
  {
   "cell_type": "code",
   "execution_count": 18,
   "id": "b3cc1426-daef-422b-ad8c-320d148c3162",
   "metadata": {
    "tags": []
   },
   "outputs": [],
   "source": [
    "c = sum_with_return(19,1)\n"
   ]
  },
  {
   "cell_type": "code",
   "execution_count": 19,
   "id": "c2c5ef99-a9ca-4118-a203-e6d900d9e916",
   "metadata": {
    "tags": []
   },
   "outputs": [],
   "source": [
    "if(c >25):\n",
    "    print(\"yes\")"
   ]
  },
  {
   "cell_type": "code",
   "execution_count": 20,
   "id": "2d3034fa-a1b5-4dc6-af1a-136bf5ce9a8d",
   "metadata": {
    "tags": []
   },
   "outputs": [
    {
     "name": "stdout",
     "output_type": "stream",
     "text": [
      "hello5$world5$how5$are5$you\n"
     ]
    }
   ],
   "source": [
    "print(\"hello\",\"world\",\"how\",\"are\",\"you\",sep=\"5$\")"
   ]
  },
  {
   "cell_type": "code",
   "execution_count": 21,
   "id": "5fabac48-e48c-44c0-b2ff-b4b98c77634f",
   "metadata": {},
   "outputs": [
    {
     "name": "stdout",
     "output_type": "stream",
     "text": [
      "hello $ world $ how $ are $ you\n"
     ]
    }
   ],
   "source": [
    "print(\"hello\",\"world\",\"how\",\"are\",\"you\",sep=\" $ \",end='\\n')\n",
    "print(\"I\", \"am\", \"good\",)"
   ]
  },
  {
   "cell_type": "code",
   "execution_count": null,
   "id": "ea0a51d6-79b0-4567-8767-18da66746ef2",
   "metadata": {},
   "outputs": [],
   "source": [
    "print(\"hello\",\"world\",\"how\",\"are\",\"you\",sep=\" $ \",end='\\n')"
   ]
  }
 ],
 "metadata": {
  "kernelspec": {
   "display_name": "Python 3 (ipykernel)",
   "language": "python",
   "name": "python3"
  },
  "language_info": {
   "codemirror_mode": {
    "name": "ipython",
    "version": 3
   },
   "file_extension": ".py",
   "mimetype": "text/x-python",
   "name": "python",
   "nbconvert_exporter": "python",
   "pygments_lexer": "ipython3",
   "version": "3.10.12"
  }
 },
 "nbformat": 4,
 "nbformat_minor": 5
}
