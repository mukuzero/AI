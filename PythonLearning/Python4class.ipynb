{
 "cells": [
  {
   "cell_type": "markdown",
   "id": "4b6d2530-3636-4467-9d71-10388da3d4b5",
   "metadata": {},
   "source": [
    "# string concatentation"
   ]
  },
  {
   "cell_type": "code",
   "execution_count": 4,
   "id": "2caada43-2f52-4ac3-93c7-e5f8b23f49f6",
   "metadata": {},
   "outputs": [],
   "source": [
    "# + is acting like a conctenator"
   ]
  },
  {
   "cell_type": "code",
   "execution_count": 9,
   "id": "38c55c37-1c2e-4b65-bd04-552dfe7d3461",
   "metadata": {},
   "outputs": [
    {
     "data": {
      "text/plain": [
       "'string1string2  hi'"
      ]
     },
     "execution_count": 9,
     "metadata": {},
     "output_type": "execute_result"
    }
   ],
   "source": [
    " \"string1\" + \"string2\"+  \"  \"+\"hi\""
   ]
  },
  {
   "cell_type": "code",
   "execution_count": 7,
   "id": "777b0f57-4254-4807-9280-e66dc9e47310",
   "metadata": {},
   "outputs": [],
   "source": [
    "# * act as multiplier"
   ]
  },
  {
   "cell_type": "code",
   "execution_count": 8,
   "id": "fda6dc52-8620-48f0-851c-9569fa56855a",
   "metadata": {},
   "outputs": [
    {
     "data": {
      "text/plain": [
       "'yesyesyes'"
      ]
     },
     "execution_count": 8,
     "metadata": {},
     "output_type": "execute_result"
    }
   ],
   "source": [
    "\"yes\"*3"
   ]
  },
  {
   "cell_type": "code",
   "execution_count": 10,
   "id": "d09f3f5a-6c4d-4e44-a78b-dfe28c4c38f3",
   "metadata": {},
   "outputs": [],
   "source": [
    "# even if start or end index are out of bounds, it returns empty string"
   ]
  },
  {
   "cell_type": "code",
   "execution_count": 11,
   "id": "07011112-f55a-4d55-a07f-c7ce8981b183",
   "metadata": {},
   "outputs": [],
   "source": [
    "c=\"Bengaluru\""
   ]
  },
  {
   "cell_type": "code",
   "execution_count": 12,
   "id": "d1fa399d-44d0-43fb-ba3f-9b6c319d761f",
   "metadata": {},
   "outputs": [
    {
     "data": {
      "text/plain": [
       "'aluru'"
      ]
     },
     "execution_count": 12,
     "metadata": {},
     "output_type": "execute_result"
    }
   ],
   "source": [
    "c[4:10000000]"
   ]
  },
  {
   "cell_type": "code",
   "execution_count": 19,
   "id": "f0a82da0-fec9-4cc4-9be5-ec97c8bc6430",
   "metadata": {},
   "outputs": [],
   "source": [
    "# it will ignore end index by 1 c[4:8], here letter in 8th index will be ignored"
   ]
  },
  {
   "cell_type": "code",
   "execution_count": 14,
   "id": "4a0d8933-13d0-40ea-820b-af4c21221384",
   "metadata": {},
   "outputs": [
    {
     "data": {
      "text/plain": [
       "'aluru'"
      ]
     },
     "execution_count": 14,
     "metadata": {},
     "output_type": "execute_result"
    }
   ],
   "source": [
    "c[4:len(c)]"
   ]
  },
  {
   "cell_type": "code",
   "execution_count": 15,
   "id": "a2b314eb-ab0c-4cc7-a032-20671224e131",
   "metadata": {},
   "outputs": [
    {
     "data": {
      "text/plain": [
       "'alur'"
      ]
     },
     "execution_count": 15,
     "metadata": {},
     "output_type": "execute_result"
    }
   ],
   "source": [
    "c[4:len(c)-1]"
   ]
  },
  {
   "cell_type": "code",
   "execution_count": 16,
   "id": "0c2ee172-bb1b-435f-a494-260db621db66",
   "metadata": {},
   "outputs": [
    {
     "data": {
      "text/plain": [
       "'a'"
      ]
     },
     "execution_count": 16,
     "metadata": {},
     "output_type": "execute_result"
    }
   ],
   "source": [
    "c[4:5]"
   ]
  },
  {
   "cell_type": "code",
   "execution_count": 17,
   "id": "9c749f39-7810-491d-89a8-5f6c82e36b78",
   "metadata": {},
   "outputs": [
    {
     "data": {
      "text/plain": [
       "9"
      ]
     },
     "execution_count": 17,
     "metadata": {},
     "output_type": "execute_result"
    }
   ],
   "source": [
    "len(c)"
   ]
  },
  {
   "cell_type": "code",
   "execution_count": 18,
   "id": "c3367e91-ddf9-4e22-a4b5-729ddb6764cf",
   "metadata": {},
   "outputs": [
    {
     "data": {
      "text/plain": [
       "'aluru'"
      ]
     },
     "execution_count": 18,
     "metadata": {},
     "output_type": "execute_result"
    }
   ],
   "source": [
    "c[4:9]"
   ]
  },
  {
   "cell_type": "code",
   "execution_count": 2,
   "id": "a82e1f32-1fac-4033-971f-a6c9f358e420",
   "metadata": {},
   "outputs": [],
   "source": [
    "s=\"Python\""
   ]
  },
  {
   "cell_type": "code",
   "execution_count": 3,
   "id": "a7ceb1d5-fae9-403b-80d9-c4e02b4621eb",
   "metadata": {},
   "outputs": [
    {
     "data": {
      "text/plain": [
       "''"
      ]
     },
     "execution_count": 3,
     "metadata": {},
     "output_type": "execute_result"
    }
   ],
   "source": [
    "s[2:2]# it wants to start from 2 and end at 1 so empty string"
   ]
  },
  {
   "cell_type": "code",
   "execution_count": 4,
   "id": "6472863f-d2df-45e6-904a-c9033e800a79",
   "metadata": {},
   "outputs": [
    {
     "data": {
      "text/plain": [
       "'Python'"
      ]
     },
     "execution_count": 4,
     "metadata": {},
     "output_type": "execute_result"
    }
   ],
   "source": [
    "s[:]# by default it will take string start and string end"
   ]
  },
  {
   "cell_type": "code",
   "execution_count": 6,
   "id": "8107faa6-a93f-49a9-aa2b-31c1a4d4a8f8",
   "metadata": {},
   "outputs": [
    {
     "data": {
      "text/plain": [
       "'Pto'"
      ]
     },
     "execution_count": 6,
     "metadata": {},
     "output_type": "execute_result"
    }
   ],
   "source": [
    "s[::2]#step value by default is 1,  it is how many characters backward after the first character is retrieved"
   ]
  },
  {
   "cell_type": "code",
   "execution_count": 7,
   "id": "d943af4e-11c1-4923-8d9c-414bb1f4e3a9",
   "metadata": {},
   "outputs": [
    {
     "data": {
      "text/plain": [
       "'yhn'"
      ]
     },
     "execution_count": 7,
     "metadata": {},
     "output_type": "execute_result"
    }
   ],
   "source": [
    "s[1:8:2]"
   ]
  },
  {
   "cell_type": "code",
   "execution_count": 9,
   "id": "d7515a9c-4f3b-4871-9b8a-91a819b9cc10",
   "metadata": {},
   "outputs": [],
   "source": [
    "  #operators-- special symbols which do computation on values"
   ]
  },
  {
   "cell_type": "code",
   "execution_count": 10,
   "id": "9e2fe513-b8e5-42f5-afc9-4254391e27b7",
   "metadata": {},
   "outputs": [],
   "source": [
    "#Types of operators"
   ]
  },
  {
   "cell_type": "code",
   "execution_count": 11,
   "id": "65b12279-3bc3-49c0-a4c0-54d45ce4fa1a",
   "metadata": {},
   "outputs": [],
   "source": [
    "#a)arithmetc b)comparison c)logical d)Assignmenr e) Identity f) membership"
   ]
  },
  {
   "cell_type": "code",
   "execution_count": 12,
   "id": "a4778f10-13e0-4044-a6cb-95e78660fe5f",
   "metadata": {},
   "outputs": [],
   "source": [
    "#Arithmetic"
   ]
  },
  {
   "cell_type": "code",
   "execution_count": 13,
   "id": "566dced0-19a1-4d95-9d86-9a415adbfc0c",
   "metadata": {},
   "outputs": [],
   "source": [
    "#our operator behaviour changes based on operands"
   ]
  },
  {
   "cell_type": "code",
   "execution_count": 14,
   "id": "09b3cb6d-217d-4520-90d0-74766314a269",
   "metadata": {},
   "outputs": [
    {
     "data": {
      "text/plain": [
       "'HowMuch'"
      ]
     },
     "execution_count": 14,
     "metadata": {},
     "output_type": "execute_result"
    }
   ],
   "source": [
    "\"How\"+\"Much\""
   ]
  },
  {
   "cell_type": "code",
   "execution_count": 15,
   "id": "8e81ae2d-7326-4947-9805-a04b2bbd37a6",
   "metadata": {},
   "outputs": [
    {
     "data": {
      "text/plain": [
       "8"
      ]
     },
     "execution_count": 15,
     "metadata": {},
     "output_type": "execute_result"
    }
   ],
   "source": [
    "5+3"
   ]
  },
  {
   "cell_type": "code",
   "execution_count": 17,
   "id": "31da53f5-c8b3-4c4f-96ce-363e6b77f588",
   "metadata": {},
   "outputs": [],
   "source": [
    "#% => moduls == remainder"
   ]
  },
  {
   "cell_type": "code",
   "execution_count": 18,
   "id": "c462adcb-022f-4c43-8ce1-093d3cdebedb",
   "metadata": {},
   "outputs": [
    {
     "data": {
      "text/plain": [
       "3"
      ]
     },
     "execution_count": 18,
     "metadata": {},
     "output_type": "execute_result"
    }
   ],
   "source": [
    "13%5"
   ]
  },
  {
   "cell_type": "code",
   "execution_count": 19,
   "id": "b6a93978-c434-4406-876d-843b5a36b33d",
   "metadata": {},
   "outputs": [
    {
     "data": {
      "text/plain": [
       "2"
      ]
     },
     "execution_count": 19,
     "metadata": {},
     "output_type": "execute_result"
    }
   ],
   "source": [
    "13%11"
   ]
  },
  {
   "cell_type": "code",
   "execution_count": 20,
   "id": "6c307e6a-830c-4263-9809-5eb475243de8",
   "metadata": {},
   "outputs": [
    {
     "data": {
      "text/plain": [
       "6"
      ]
     },
     "execution_count": 20,
     "metadata": {},
     "output_type": "execute_result"
    }
   ],
   "source": [
    "6%10"
   ]
  },
  {
   "cell_type": "code",
   "execution_count": 26,
   "id": "c8070d1b-c949-4f1d-b1b7-d59a801498cc",
   "metadata": {},
   "outputs": [],
   "source": [
    "#/=> gives quotiont along with decimal value"
   ]
  },
  {
   "cell_type": "code",
   "execution_count": 24,
   "id": "33a0c183-b5a3-44d9-94ed-bbf2511faf20",
   "metadata": {},
   "outputs": [
    {
     "data": {
      "text/plain": [
       "2.0"
      ]
     },
     "execution_count": 24,
     "metadata": {},
     "output_type": "execute_result"
    }
   ],
   "source": [
    "4/2"
   ]
  },
  {
   "cell_type": "code",
   "execution_count": 25,
   "id": "fe4e7327-cd35-46a5-a9b4-542a9a9850c6",
   "metadata": {},
   "outputs": [
    {
     "data": {
      "text/plain": [
       "2.5"
      ]
     },
     "execution_count": 25,
     "metadata": {},
     "output_type": "execute_result"
    }
   ],
   "source": [
    "5/2"
   ]
  },
  {
   "cell_type": "code",
   "execution_count": 33,
   "id": "ed8b320a-1ce8-4f0f-a943-2bcb53dd6497",
   "metadata": {},
   "outputs": [],
   "source": [
    "#//=> gives quotiont in whole number (floor value)"
   ]
  },
  {
   "cell_type": "code",
   "execution_count": 30,
   "id": "188629a2-7519-4e97-81cb-b1faa8428ac4",
   "metadata": {},
   "outputs": [
    {
     "data": {
      "text/plain": [
       "2"
      ]
     },
     "execution_count": 30,
     "metadata": {},
     "output_type": "execute_result"
    }
   ],
   "source": [
    "14//7"
   ]
  },
  {
   "cell_type": "code",
   "execution_count": 31,
   "id": "028dded4-2312-4088-bc6c-0acd1e0137de",
   "metadata": {},
   "outputs": [
    {
     "data": {
      "text/plain": [
       "4"
      ]
     },
     "execution_count": 31,
     "metadata": {},
     "output_type": "execute_result"
    }
   ],
   "source": [
    "14//3"
   ]
  },
  {
   "cell_type": "code",
   "execution_count": 32,
   "id": "7ed84457-73f7-4353-8964-4826f43e0a9f",
   "metadata": {},
   "outputs": [
    {
     "data": {
      "text/plain": [
       "2"
      ]
     },
     "execution_count": 32,
     "metadata": {},
     "output_type": "execute_result"
    }
   ],
   "source": [
    "299//100"
   ]
  },
  {
   "cell_type": "code",
   "execution_count": 34,
   "id": "1aafd4c1-78f0-4114-8fb7-7684001adc9d",
   "metadata": {},
   "outputs": [],
   "source": [
    "#Relational operators"
   ]
  },
  {
   "cell_type": "code",
   "execution_count": 35,
   "id": "c0943cf8-947e-408d-80c4-bbddc64d3782",
   "metadata": {},
   "outputs": [],
   "source": [
    "#get relation between 2 things getting compared"
   ]
  },
  {
   "cell_type": "code",
   "execution_count": 37,
   "id": "5fd86248-6615-45bf-a627-4082b8ca51d2",
   "metadata": {},
   "outputs": [],
   "source": [
    "#!= not equal to"
   ]
  },
  {
   "cell_type": "code",
   "execution_count": 38,
   "id": "f9754164-0c0a-4da7-892e-9f35b9295464",
   "metadata": {},
   "outputs": [
    {
     "data": {
      "text/plain": [
       "False"
      ]
     },
     "execution_count": 38,
     "metadata": {},
     "output_type": "execute_result"
    }
   ],
   "source": [
    "6>8"
   ]
  },
  {
   "cell_type": "code",
   "execution_count": 40,
   "id": "9a048b75-8c34-41cc-87a6-b2696bf9db81",
   "metadata": {},
   "outputs": [],
   "source": [
    "#Relational operators in strings=> unique code is compared"
   ]
  },
  {
   "cell_type": "code",
   "execution_count": 43,
   "id": "30dcc28f-51cd-423c-83cf-bffe69a7c95b",
   "metadata": {},
   "outputs": [
    {
     "data": {
      "text/plain": [
       "65"
      ]
     },
     "execution_count": 43,
     "metadata": {},
     "output_type": "execute_result"
    }
   ],
   "source": [
    "ord('A') #ord fun return unique code"
   ]
  },
  {
   "cell_type": "code",
   "execution_count": 42,
   "id": "caf29e18-aa49-41c1-bda1-83503cf06c1e",
   "metadata": {},
   "outputs": [
    {
     "ename": "TypeError",
     "evalue": "ord() expected a character, but string of length 3 found",
     "output_type": "error",
     "traceback": [
      "\u001b[0;31m---------------------------------------------------------------------------\u001b[0m",
      "\u001b[0;31mTypeError\u001b[0m                                 Traceback (most recent call last)",
      "Cell \u001b[0;32mIn[42], line 1\u001b[0m\n\u001b[0;32m----> 1\u001b[0m \u001b[38;5;28;43mord\u001b[39;49m\u001b[43m(\u001b[49m\u001b[38;5;124;43m'\u001b[39;49m\u001b[38;5;124;43mabc\u001b[39;49m\u001b[38;5;124;43m'\u001b[39;49m\u001b[43m)\u001b[49m \u001b[38;5;66;03m# argument should be char\u001b[39;00m\n",
      "\u001b[0;31mTypeError\u001b[0m: ord() expected a character, but string of length 3 found"
     ]
    }
   ],
   "source": [
    "ord('abc') # argument should be char"
   ]
  },
  {
   "cell_type": "code",
   "execution_count": 45,
   "id": "88b75f9f-f4d1-4714-af5c-63d00b066094",
   "metadata": {},
   "outputs": [
    {
     "data": {
      "text/plain": [
       "97"
      ]
     },
     "execution_count": 45,
     "metadata": {},
     "output_type": "execute_result"
    }
   ],
   "source": [
    "ord('a')"
   ]
  },
  {
   "cell_type": "code",
   "execution_count": 47,
   "id": "f5fbd228-9736-4ac6-ac95-8a9270ffd486",
   "metadata": {},
   "outputs": [
    {
     "data": {
      "text/plain": [
       "False"
      ]
     },
     "execution_count": 47,
     "metadata": {},
     "output_type": "execute_result"
    }
   ],
   "source": [
    "\"BLR\"==\"blr\" #because unicode is compared"
   ]
  },
  {
   "cell_type": "code",
   "execution_count": 60,
   "id": "175f0e4f-973b-408c-9ef2-79b3232940d3",
   "metadata": {},
   "outputs": [
    {
     "data": {
      "text/plain": [
       "False"
      ]
     },
     "execution_count": 60,
     "metadata": {},
     "output_type": "execute_result"
    }
   ],
   "source": [
    "\"ab\">\"ac\" #ord(\"a\")=ord(\"a\") then it goes to next char,ord(\"c\")>ord(\"b\")"
   ]
  },
  {
   "cell_type": "code",
   "execution_count": 50,
   "id": "56dda05a-5fd9-499b-8d3b-f9c37ed2a820",
   "metadata": {},
   "outputs": [
    {
     "data": {
      "text/plain": [
       "98"
      ]
     },
     "execution_count": 50,
     "metadata": {},
     "output_type": "execute_result"
    }
   ],
   "source": [
    "ord(\"b\")"
   ]
  },
  {
   "cell_type": "code",
   "execution_count": 51,
   "id": "6c8c3717-0608-42a3-8cac-68be3fc806ca",
   "metadata": {},
   "outputs": [
    {
     "data": {
      "text/plain": [
       "99"
      ]
     },
     "execution_count": 51,
     "metadata": {},
     "output_type": "execute_result"
    }
   ],
   "source": [
    "ord(\"c\")"
   ]
  },
  {
   "cell_type": "code",
   "execution_count": 53,
   "id": "c171f2c8-ebf2-4be7-8529-1d3c5eda1ce0",
   "metadata": {},
   "outputs": [
    {
     "data": {
      "text/plain": [
       "True"
      ]
     },
     "execution_count": 53,
     "metadata": {},
     "output_type": "execute_result"
    }
   ],
   "source": [
    "\"abz\">\"aba\""
   ]
  },
  {
   "cell_type": "code",
   "execution_count": 54,
   "id": "f661d66e-303b-482c-9c86-041d04494204",
   "metadata": {},
   "outputs": [
    {
     "data": {
      "text/plain": [
       "False"
      ]
     },
     "execution_count": 54,
     "metadata": {},
     "output_type": "execute_result"
    }
   ],
   "source": [
    "\"A\">\"a\""
   ]
  },
  {
   "cell_type": "code",
   "execution_count": 57,
   "id": "6d468cc3-aa0d-4f24-9f1c-1e3c3681d4cf",
   "metadata": {},
   "outputs": [
    {
     "data": {
      "text/plain": [
       "111"
      ]
     },
     "execution_count": 57,
     "metadata": {},
     "output_type": "execute_result"
    }
   ],
   "source": [
    "ord(\"o\")"
   ]
  },
  {
   "cell_type": "code",
   "execution_count": 58,
   "id": "32da7cad-8b28-498c-8e63-da45773e6ab1",
   "metadata": {},
   "outputs": [
    {
     "data": {
      "text/plain": [
       "100"
      ]
     },
     "execution_count": 58,
     "metadata": {},
     "output_type": "execute_result"
    }
   ],
   "source": [
    "ord(\"d\")"
   ]
  },
  {
   "cell_type": "code",
   "execution_count": 59,
   "id": "86cbe1a5-0143-491a-b101-c74380fddaf5",
   "metadata": {},
   "outputs": [
    {
     "data": {
      "text/plain": [
       "False"
      ]
     },
     "execution_count": 59,
     "metadata": {},
     "output_type": "execute_result"
    }
   ],
   "source": [
    "'foo'>'food' #bcoz foo is same in both, but d is there in second opeand"
   ]
  },
  {
   "cell_type": "code",
   "execution_count": 61,
   "id": "1b6d9a37-cb91-45c7-9768-f7dd25bfd1f4",
   "metadata": {},
   "outputs": [
    {
     "data": {
      "text/plain": [
       "False"
      ]
     },
     "execution_count": 61,
     "metadata": {},
     "output_type": "execute_result"
    }
   ],
   "source": [
    "'abc'>'acb'"
   ]
  },
  {
   "cell_type": "code",
   "execution_count": 63,
   "id": "1abb18ca-ec7b-4850-98bd-72a2de0872f4",
   "metadata": {},
   "outputs": [
    {
     "data": {
      "text/plain": [
       "True"
      ]
     },
     "execution_count": 63,
     "metadata": {},
     "output_type": "execute_result"
    }
   ],
   "source": [
    "'az'>'ayaaaa'# a compared, both same, then z compared vs Y, z is bigger so True"
   ]
  },
  {
   "cell_type": "code",
   "execution_count": 64,
   "id": "6c935d60-41af-41ee-ab32-77e0890bdcba",
   "metadata": {},
   "outputs": [],
   "source": [
    "#a=97 #A65 0=48"
   ]
  },
  {
   "cell_type": "code",
   "execution_count": 65,
   "id": "d890c90b-77af-4222-8323-938c36652d0b",
   "metadata": {},
   "outputs": [],
   "source": [
    "#chaining of relation operators"
   ]
  },
  {
   "cell_type": "code",
   "execution_count": 66,
   "id": "d06af119-c81e-4216-b13d-c3b52124b66e",
   "metadata": {},
   "outputs": [],
   "source": [
    "#chaining allowed"
   ]
  },
  {
   "cell_type": "code",
   "execution_count": 69,
   "id": "92738e84-f037-44d4-9d34-29d161ed678e",
   "metadata": {},
   "outputs": [
    {
     "data": {
      "text/plain": [
       "True"
      ]
     },
     "execution_count": 69,
     "metadata": {},
     "output_type": "execute_result"
    }
   ],
   "source": [
    "1<2<3 #python evaluates each and every expression individually and returns true if all true else false"
   ]
  },
  {
   "cell_type": "code",
   "execution_count": 76,
   "id": "eff1a9ee-5dd0-4ae3-ab4f-d5801f0fe63a",
   "metadata": {},
   "outputs": [],
   "source": [
    "#special behaviour ==  #both type and value are compared"
   ]
  },
  {
   "cell_type": "code",
   "execution_count": 71,
   "id": "91eba106-42b6-49d0-982f-661d6a66ecf6",
   "metadata": {},
   "outputs": [
    {
     "data": {
      "text/plain": [
       "False"
      ]
     },
     "execution_count": 71,
     "metadata": {},
     "output_type": "execute_result"
    }
   ],
   "source": [
    "1=='1'"
   ]
  },
  {
   "cell_type": "code",
   "execution_count": 73,
   "id": "37c0e04a-f10a-4227-8a4a-2e196aecb502",
   "metadata": {},
   "outputs": [
    {
     "data": {
      "text/plain": [
       "False"
      ]
     },
     "execution_count": 73,
     "metadata": {},
     "output_type": "execute_result"
    }
   ],
   "source": [
    "97=='a'"
   ]
  },
  {
   "cell_type": "code",
   "execution_count": 75,
   "id": "8d89c096-0250-43ff-b3d7-eb67ddc8c574",
   "metadata": {},
   "outputs": [
    {
     "data": {
      "text/plain": [
       "True"
      ]
     },
     "execution_count": 75,
     "metadata": {},
     "output_type": "execute_result"
    }
   ],
   "source": [
    "97==ord('a')"
   ]
  },
  {
   "cell_type": "code",
   "execution_count": 77,
   "id": "a93cfee2-4a01-44b1-8f3a-166519e65afb",
   "metadata": {},
   "outputs": [],
   "source": [
    "#!= is True if types are diffferent"
   ]
  },
  {
   "cell_type": "code",
   "execution_count": 78,
   "id": "ac1b520e-29b0-438d-889d-ea6ff4045c3f",
   "metadata": {},
   "outputs": [
    {
     "data": {
      "text/plain": [
       "True"
      ]
     },
     "execution_count": 78,
     "metadata": {},
     "output_type": "execute_result"
    }
   ],
   "source": [
    "'a'!=2"
   ]
  },
  {
   "cell_type": "code",
   "execution_count": 79,
   "id": "f29362a0-0ae4-4bc7-b760-df99c1ddbdec",
   "metadata": {},
   "outputs": [],
   "source": [
    "#logical operators"
   ]
  },
  {
   "cell_type": "code",
   "execution_count": 80,
   "id": "0885f296-e688-4b07-9bcc-090ca9de06ad",
   "metadata": {},
   "outputs": [],
   "source": [
    "#and or not -- to combine two or more equations"
   ]
  },
  {
   "cell_type": "code",
   "execution_count": 82,
   "id": "eaad1d9f-02f7-47d3-8f7d-0df7d01865e8",
   "metadata": {},
   "outputs": [
    {
     "data": {
      "text/plain": [
       "10"
      ]
     },
     "execution_count": 82,
     "metadata": {},
     "output_type": "execute_result"
    }
   ],
   "source": [
    "'Sachin' and 10 #the return value of logical and & logical or is not True/false , when non boolean types are applied"
   ]
  },
  {
   "cell_type": "code",
   "execution_count": 83,
   "id": "ab8b5738-f014-48d5-8b5a-9bff97d142b6",
   "metadata": {},
   "outputs": [
    {
     "data": {
      "text/plain": [
       "'sachin'"
      ]
     },
     "execution_count": 83,
     "metadata": {},
     "output_type": "execute_result"
    }
   ],
   "source": [
    "'sachin' or '10'"
   ]
  },
  {
   "cell_type": "code",
   "execution_count": 85,
   "id": "85da8f46-764c-4523-9dd3-39bac7e9a017",
   "metadata": {},
   "outputs": [
    {
     "data": {
      "text/plain": [
       "10"
      ]
     },
     "execution_count": 85,
     "metadata": {},
     "output_type": "execute_result"
    }
   ],
   "source": [
    "'Sachin' and 10 #i f Fast value is False, then logical and returns first value else it returns 2nd value"
   ]
  },
  {
   "cell_type": "code",
   "execution_count": 89,
   "id": "ff610671-f504-44df-9c99-724127da3fd9",
   "metadata": {},
   "outputs": [
    {
     "data": {
      "text/plain": [
       "'Hello'"
      ]
     },
     "execution_count": 89,
     "metadata": {},
     "output_type": "execute_result"
    }
   ],
   "source": [
    "0 or 'Hello'#if first value is True then logical or returns first value else it returns 2nd value"
   ]
  },
  {
   "cell_type": "code",
   "execution_count": null,
   "id": "6d6f45ad-a2d3-4274-a4aa-c4de0f0edec5",
   "metadata": {},
   "outputs": [],
   "source": []
  }
 ],
 "metadata": {
  "kernelspec": {
   "display_name": "Python 3 (ipykernel)",
   "language": "python",
   "name": "python3"
  },
  "language_info": {
   "codemirror_mode": {
    "name": "ipython",
    "version": 3
   },
   "file_extension": ".py",
   "mimetype": "text/x-python",
   "name": "python",
   "nbconvert_exporter": "python",
   "pygments_lexer": "ipython3",
   "version": "3.10.12"
  }
 },
 "nbformat": 4,
 "nbformat_minor": 5
}
