{
 "cells": [
  {
   "cell_type": "markdown",
   "id": "d8237f05-5ab1-4a21-83b6-dcdb8441083d",
   "metadata": {},
   "source": [
    "# Loop"
   ]
  },
  {
   "cell_type": "code",
   "execution_count": 5,
   "id": "09a71062-e8ae-468a-b3ca-729075c6b790",
   "metadata": {},
   "outputs": [],
   "source": [
    "# the issue is that our code unnecessarily becomes long and complex\n",
    "#make sure that code is :\n",
    "# simple\n",
    "#as small as possible"
   ]
  },
  {
   "cell_type": "code",
   "execution_count": 7,
   "id": "56f5730e-3314-4104-8b8e-a3ec9d8dfde6",
   "metadata": {},
   "outputs": [],
   "source": [
    "start = 0\n",
    "end = 4"
   ]
  },
  {
   "cell_type": "code",
   "execution_count": 8,
   "id": "8b785956-8223-43f2-9e53-07e1b33eb0fe",
   "metadata": {},
   "outputs": [
    {
     "name": "stdout",
     "output_type": "stream",
     "text": [
      "0\n",
      "1\n",
      "2\n",
      "3\n"
     ]
    }
   ],
   "source": [
    "while start<end:# make sure that it doesn't end up to Infinte and make sure to double check and update the condn\n",
    "    print(start)\n",
    "    start+=1"
   ]
  },
  {
   "cell_type": "code",
   "execution_count": 14,
   "id": "a6369cb1-6e2e-4959-a6f3-1dc93e469099",
   "metadata": {},
   "outputs": [
    {
     "name": "stdout",
     "output_type": "stream",
     "text": [
      "1\n",
      "2\n",
      "3\n",
      "I am out\n"
     ]
    }
   ],
   "source": [
    "#code block 1\n",
    "start=1\n",
    "end=4\n",
    "\n",
    "while start<end and True:\n",
    "    print(start)\n",
    "    start =  start+1\n",
    "else:\n",
    "    print(\"I am out\")"
   ]
  },
  {
   "cell_type": "code",
   "execution_count": 15,
   "id": "e30f71be-a61c-4ebd-9d81-4de6d73af6ee",
   "metadata": {},
   "outputs": [
    {
     "name": "stdout",
     "output_type": "stream",
     "text": [
      "1\n",
      "2\n",
      "3\n",
      "I am out\n"
     ]
    }
   ],
   "source": [
    "# code block 2\n",
    "start=1\n",
    "end=4\n",
    "\n",
    "while start<end and True:\n",
    "    print(start)\n",
    "    start =  start+1\n",
    "\n",
    "print(\"I am out\")"
   ]
  },
  {
   "cell_type": "code",
   "execution_count": 16,
   "id": "8e1bdac6-2952-4166-bcbf-81f99a691bde",
   "metadata": {},
   "outputs": [],
   "source": [
    "# diff btween code block1 and 2 is\n",
    "# when my loop all iteration are not finished, then else block wont get executed"
   ]
  },
  {
   "cell_type": "code",
   "execution_count": 18,
   "id": "b01a8ff3-383f-4239-ae69-6c8436572174",
   "metadata": {},
   "outputs": [],
   "source": [
    "#break statement--\n",
    "# Ideally, loop only closes itself when the condition becomes false, else get activated"
   ]
  },
  {
   "cell_type": "code",
   "execution_count": 24,
   "id": "27ac0282-6826-42dc-9d2b-b89c260c01f4",
   "metadata": {},
   "outputs": [],
   "source": [
    "# but we can also end our loop before it has all iterations exhausted , for that we have a keyword break\n",
    "# check code block 3 & 4 & 5 &6 "
   ]
  },
  {
   "cell_type": "code",
   "execution_count": 20,
   "id": "33cd1b72-918a-4d16-b43d-e1de78bd6ea6",
   "metadata": {},
   "outputs": [
    {
     "name": "stdout",
     "output_type": "stream",
     "text": [
      "1\n"
     ]
    }
   ],
   "source": [
    "# code block 3\n",
    "start=1\n",
    "end=4\n",
    "\n",
    "while start<end and True:\n",
    "    print(start)\n",
    "    start =  start+1\n",
    "    break\n",
    "else:\n",
    "    print(\"I am out\")"
   ]
  },
  {
   "cell_type": "code",
   "execution_count": 21,
   "id": "2f802c9d-995c-4b30-b1f6-99ec926e4999",
   "metadata": {},
   "outputs": [
    {
     "name": "stdout",
     "output_type": "stream",
     "text": [
      "1\n",
      "I am out\n"
     ]
    }
   ],
   "source": [
    "# code block 4\n",
    "start=1\n",
    "end=4\n",
    "\n",
    "while start<end and True:\n",
    "    print(start)\n",
    "    start =  start+1\n",
    "    break\n",
    "\n",
    "print(\"I am out\")"
   ]
  },
  {
   "cell_type": "code",
   "execution_count": 26,
   "id": "b00b4022-b82b-4426-be36-f00e810533e6",
   "metadata": {},
   "outputs": [
    {
     "name": "stdout",
     "output_type": "stream",
     "text": [
      "-50.0\n",
      "-100.0\n"
     ]
    },
    {
     "ename": "ZeroDivisionError",
     "evalue": "division by zero",
     "output_type": "error",
     "traceback": [
      "\u001b[0;31m---------------------------------------------------------------------------\u001b[0m",
      "\u001b[0;31mZeroDivisionError\u001b[0m                         Traceback (most recent call last)",
      "Cell \u001b[0;32mIn[26], line 6\u001b[0m\n\u001b[1;32m      3\u001b[0m end\u001b[38;5;241m=\u001b[39m\u001b[38;5;241m2\u001b[39m\n\u001b[1;32m      5\u001b[0m \u001b[38;5;28;01mwhile\u001b[39;00m start\u001b[38;5;241m<\u001b[39mend \u001b[38;5;129;01mand\u001b[39;00m \u001b[38;5;28;01mTrue\u001b[39;00m:\n\u001b[0;32m----> 6\u001b[0m     \u001b[38;5;28mprint\u001b[39m(\u001b[38;5;241;43m100\u001b[39;49m\u001b[38;5;241;43m/\u001b[39;49m\u001b[43mstart\u001b[49m)\n\u001b[1;32m      7\u001b[0m     start \u001b[38;5;241m=\u001b[39m  start\u001b[38;5;241m+\u001b[39m\u001b[38;5;241m1\u001b[39m\n\u001b[1;32m      8\u001b[0m \u001b[38;5;28;01melse\u001b[39;00m:\n",
      "\u001b[0;31mZeroDivisionError\u001b[0m: division by zero"
     ]
    }
   ],
   "source": [
    "# code block 5\n",
    "start=-2\n",
    "end=2\n",
    "\n",
    "while start<end and True:\n",
    "    print(100/start)\n",
    "    start =  start+1\n",
    "else:\n",
    "    print(\"I am out\")"
   ]
  },
  {
   "cell_type": "code",
   "execution_count": 27,
   "id": "67a40aa4-67dc-4026-9e1d-b920577e4b77",
   "metadata": {},
   "outputs": [
    {
     "name": "stdout",
     "output_type": "stream",
     "text": [
      "-50.0\n",
      "-100.0\n"
     ]
    },
    {
     "ename": "ZeroDivisionError",
     "evalue": "division by zero",
     "output_type": "error",
     "traceback": [
      "\u001b[0;31m---------------------------------------------------------------------------\u001b[0m",
      "\u001b[0;31mZeroDivisionError\u001b[0m                         Traceback (most recent call last)",
      "Cell \u001b[0;32mIn[27], line 6\u001b[0m\n\u001b[1;32m      3\u001b[0m end\u001b[38;5;241m=\u001b[39m\u001b[38;5;241m2\u001b[39m\n\u001b[1;32m      5\u001b[0m \u001b[38;5;28;01mwhile\u001b[39;00m start\u001b[38;5;241m<\u001b[39mend \u001b[38;5;129;01mand\u001b[39;00m \u001b[38;5;28;01mTrue\u001b[39;00m:\n\u001b[0;32m----> 6\u001b[0m     \u001b[38;5;28mprint\u001b[39m(\u001b[38;5;241;43m100\u001b[39;49m\u001b[38;5;241;43m/\u001b[39;49m\u001b[43mstart\u001b[49m)\n\u001b[1;32m      7\u001b[0m     start \u001b[38;5;241m=\u001b[39m  start\u001b[38;5;241m+\u001b[39m\u001b[38;5;241m1\u001b[39m\n\u001b[1;32m      8\u001b[0m \u001b[38;5;28mprint\u001b[39m(\u001b[38;5;124m\"\u001b[39m\u001b[38;5;124mI am out\u001b[39m\u001b[38;5;124m\"\u001b[39m)\n",
      "\u001b[0;31mZeroDivisionError\u001b[0m: division by zero"
     ]
    }
   ],
   "source": [
    "# code block 6\n",
    "start=-2\n",
    "end=2\n",
    "\n",
    "while start<end and True:\n",
    "    print(100/start)\n",
    "    start =  start+1\n",
    "print(\"I am out\")"
   ]
  },
  {
   "cell_type": "code",
   "execution_count": 28,
   "id": "550b052e-b734-4fa1-bfcd-5f1ff2d998f2",
   "metadata": {},
   "outputs": [
    {
     "name": "stdout",
     "output_type": "stream",
     "text": [
      "-50.0\n",
      "-100.0\n",
      "I am out\n"
     ]
    }
   ],
   "source": [
    "# code block 6\n",
    "start=-2\n",
    "end=2\n",
    "\n",
    "while start<end and True:\n",
    "    if start==0:\n",
    "        break\n",
    "    print(100/start)\n",
    "    start =  start+1\n",
    "print(\"I am out\")"
   ]
  },
  {
   "cell_type": "code",
   "execution_count": 30,
   "id": "a3ee318f-329e-431e-8e43-ffa510f3e840",
   "metadata": {},
   "outputs": [
    {
     "name": "stdout",
     "output_type": "stream",
     "text": [
      "-50.0\n",
      "-100.0\n"
     ]
    }
   ],
   "source": [
    "# code block 7\n",
    "start=-2\n",
    "end=2\n",
    "\n",
    "while start<end and True:\n",
    "    if start==0:\n",
    "        break\n",
    "    print(100/start)\n",
    "    start =  start+1\n",
    "else:\n",
    "    print(\"I am out\")"
   ]
  },
  {
   "cell_type": "code",
   "execution_count": 31,
   "id": "86e25190-56a4-4106-86d3-72fe36a62eb1",
   "metadata": {},
   "outputs": [],
   "source": [
    "# continuos statement"
   ]
  },
  {
   "cell_type": "code",
   "execution_count": 32,
   "id": "2059cbd5-5f4b-4c48-9ad6-259f2abce7f2",
   "metadata": {},
   "outputs": [],
   "source": [
    "#case we might want to avoid this particualar iteration but proceed with further iteration"
   ]
  },
  {
   "cell_type": "code",
   "execution_count": 37,
   "id": "db99d1bc-4979-4832-9285-f69109bc4c92",
   "metadata": {},
   "outputs": [
    {
     "name": "stdout",
     "output_type": "stream",
     "text": [
      "-50.0\n",
      "-100.0\n",
      "start is 0 here\n",
      "100.0\n",
      "I am out\n"
     ]
    }
   ],
   "source": [
    "start = -2\n",
    "end = 2\n",
    "while start < end:\n",
    "    if (start==0):\n",
    "        print(\"start is 0 here\")\n",
    "        start =  start +1 ##  very very important\n",
    "        continue\n",
    "    print(100/start)\n",
    "    start =  start +1\n",
    "else: \n",
    "    print(\"I am out\")"
   ]
  },
  {
   "cell_type": "markdown",
   "id": "bffb0553-4bca-4cb2-bdd6-5ac3645c5373",
   "metadata": {},
   "source": [
    "# For loop"
   ]
  },
  {
   "cell_type": "code",
   "execution_count": 38,
   "id": "36bf79eb-4c5e-4e8a-a814-ae19c01c2ec2",
   "metadata": {},
   "outputs": [
    {
     "name": "stdout",
     "output_type": "stream",
     "text": [
      "0\n",
      "1\n",
      "2\n",
      "3\n",
      "4\n"
     ]
    }
   ],
   "source": [
    "start = 0\n",
    "end = 5\n",
    "for i in range(0,5):\n",
    "    print(i)"
   ]
  },
  {
   "cell_type": "code",
   "execution_count": 39,
   "id": "f638b20e-fc51-4322-a36a-e65f5aa05b92",
   "metadata": {},
   "outputs": [],
   "source": [
    "li = {1,2,3,4,5}"
   ]
  },
  {
   "cell_type": "code",
   "execution_count": 40,
   "id": "c9fc827e-448c-4d3e-9751-15f55035c92f",
   "metadata": {},
   "outputs": [
    {
     "name": "stdout",
     "output_type": "stream",
     "text": [
      "1\n",
      "2\n",
      "3\n",
      "4\n",
      "5\n"
     ]
    }
   ],
   "source": [
    "for i in li:\n",
    "    print(i)"
   ]
  },
  {
   "cell_type": "code",
   "execution_count": 42,
   "id": "e0b0f231-9f58-46fb-b5d9-2d803cb1f9b3",
   "metadata": {},
   "outputs": [
    {
     "name": "stdout",
     "output_type": "stream",
     "text": [
      "1\n",
      "2\n",
      "3\n",
      "4\n",
      "5\n"
     ]
    }
   ],
   "source": [
    "x=[1,2,3,4,5]\n",
    "for pos in {0,1,2,3,4}:\n",
    "    print(x[pos])"
   ]
  },
  {
   "cell_type": "code",
   "execution_count": 43,
   "id": "361a6213-54af-4706-a985-289517edc14b",
   "metadata": {},
   "outputs": [],
   "source": [
    "# for loop handles increment after a single iteration gets completed"
   ]
  },
  {
   "cell_type": "code",
   "execution_count": 52,
   "id": "2cd195ce-684a-48d6-926b-b0e2f4b61f91",
   "metadata": {},
   "outputs": [
    {
     "name": "stdout",
     "output_type": "stream",
     "text": [
      "m/u/k/u"
     ]
    }
   ],
   "source": [
    "str1 =\"m/u/k/u\"\n",
    "\n",
    "for char in str1:\n",
    "    print(char ,end= \"\")"
   ]
  },
  {
   "cell_type": "code",
   "execution_count": 54,
   "id": "208ebca6-97ec-4878-95c9-cd9c551eb2de",
   "metadata": {},
   "outputs": [
    {
     "name": "stdin",
     "output_type": "stream",
     "text": [
      "enter your name mukUnthan\n"
     ]
    },
    {
     "name": "stdout",
     "output_type": "stream",
     "text": [
      "m\n",
      "k\n",
      "n\n",
      "t\n",
      "h\n",
      "n\n"
     ]
    }
   ],
   "source": [
    "x= input(\"enter your name\")\n",
    "for i in x:\n",
    "    if i.lower() not in ['a','e','i','o','u']:\n",
    "        print(i)"
   ]
  },
  {
   "cell_type": "markdown",
   "id": "d5960660-649b-47f5-b262-e4b433549848",
   "metadata": {},
   "source": [
    " # Range"
   ]
  },
  {
   "cell_type": "code",
   "execution_count": 55,
   "id": "d0fe177a-7681-4380-ad7f-f8181c7144b9",
   "metadata": {},
   "outputs": [],
   "source": [
    "# inbuilt function in python , returns us a range object, it is used to generate a sequence of numbers in form of a list"
   ]
  },
  {
   "cell_type": "code",
   "execution_count": 60,
   "id": "04c26d4d-d183-4289-ade1-89ca494ade9e",
   "metadata": {},
   "outputs": [
    {
     "data": {
      "text/plain": [
       "[0, 1]"
      ]
     },
     "execution_count": 60,
     "metadata": {},
     "output_type": "execute_result"
    }
   ],
   "source": [
    "list(range(0,2))"
   ]
  },
  {
   "cell_type": "code",
   "execution_count": 63,
   "id": "5a91bbd2-1a95-4147-818a-e3041d4488a8",
   "metadata": {},
   "outputs": [
    {
     "ename": "SyntaxError",
     "evalue": "can't use starred expression here (4213793176.py, line 1)",
     "output_type": "error",
     "traceback": [
      "\u001b[0;36m  Cell \u001b[0;32mIn[63], line 1\u001b[0;36m\u001b[0m\n\u001b[0;31m    *range(5)\u001b[0m\n\u001b[0m    ^\u001b[0m\n\u001b[0;31mSyntaxError\u001b[0m\u001b[0;31m:\u001b[0m can't use starred expression here\n"
     ]
    }
   ],
   "source": [
    "*range(5)"
   ]
  },
  {
   "cell_type": "code",
   "execution_count": 64,
   "id": "6e8a00dd-363b-45ac-9f30-f639362518b0",
   "metadata": {},
   "outputs": [
    {
     "data": {
      "text/plain": [
       "[]"
      ]
     },
     "execution_count": 64,
     "metadata": {},
     "output_type": "execute_result"
    }
   ],
   "source": [
    "list(range(5,2))"
   ]
  },
  {
   "cell_type": "code",
   "execution_count": 65,
   "id": "b2b43cec-95da-438e-87b7-f53d34854410",
   "metadata": {},
   "outputs": [
    {
     "data": {
      "text/plain": [
       "[5, 4, 3]"
      ]
     },
     "execution_count": 65,
     "metadata": {},
     "output_type": "execute_result"
    }
   ],
   "source": [
    "list(range(5,2,-1))"
   ]
  },
  {
   "cell_type": "code",
   "execution_count": 66,
   "id": "800b31f3-be8d-438f-9fde-25e83b90b064",
   "metadata": {},
   "outputs": [
    {
     "data": {
      "text/plain": [
       "[0, 1, 2, 3, 4]"
      ]
     },
     "execution_count": 66,
     "metadata": {},
     "output_type": "execute_result"
    }
   ],
   "source": [
    "[*range(5)]"
   ]
  },
  {
   "cell_type": "code",
   "execution_count": 67,
   "id": "b41fe3e9-4d3c-49b4-9fd9-6bfd361f3bca",
   "metadata": {},
   "outputs": [
    {
     "ename": "TypeError",
     "evalue": "'float' object cannot be interpreted as an integer",
     "output_type": "error",
     "traceback": [
      "\u001b[0;31m---------------------------------------------------------------------------\u001b[0m",
      "\u001b[0;31mTypeError\u001b[0m                                 Traceback (most recent call last)",
      "Cell \u001b[0;32mIn[67], line 1\u001b[0m\n\u001b[0;32m----> 1\u001b[0m \u001b[38;5;28mlist\u001b[39m(\u001b[38;5;28;43mrange\u001b[39;49m\u001b[43m(\u001b[49m\u001b[38;5;241;43m1.5\u001b[39;49m\u001b[43m,\u001b[49m\u001b[38;5;241;43m5.5\u001b[39;49m\u001b[43m)\u001b[49m) \u001b[38;5;66;03m# range only accepts int values\u001b[39;00m\n",
      "\u001b[0;31mTypeError\u001b[0m: 'float' object cannot be interpreted as an integer"
     ]
    }
   ],
   "source": [
    "list(range(1.5,5.5)) # range only accepts int values"
   ]
  },
  {
   "cell_type": "code",
   "execution_count": 68,
   "id": "2d766786-f1f4-4eeb-870b-33d4114ee085",
   "metadata": {},
   "outputs": [
    {
     "ename": "ValueError",
     "evalue": "range() arg 3 must not be zero",
     "output_type": "error",
     "traceback": [
      "\u001b[0;31m---------------------------------------------------------------------------\u001b[0m",
      "\u001b[0;31mValueError\u001b[0m                                Traceback (most recent call last)",
      "Cell \u001b[0;32mIn[68], line 1\u001b[0m\n\u001b[0;32m----> 1\u001b[0m \u001b[38;5;28mlist\u001b[39m(\u001b[38;5;28;43mrange\u001b[39;49m\u001b[43m(\u001b[49m\u001b[38;5;241;43m1\u001b[39;49m\u001b[43m,\u001b[49m\u001b[38;5;241;43m5\u001b[39;49m\u001b[43m,\u001b[49m\u001b[38;5;241;43m0\u001b[39;49m\u001b[43m)\u001b[49m)\n",
      "\u001b[0;31mValueError\u001b[0m: range() arg 3 must not be zero"
     ]
    }
   ],
   "source": [
    "list(range(1,5,0))"
   ]
  },
  {
   "cell_type": "code",
   "execution_count": 73,
   "id": "2495a327-37e3-4e98-a06e-35f97f5059ec",
   "metadata": {},
   "outputs": [
    {
     "name": "stdin",
     "output_type": "stream",
     "text": [
      "Enter a number 8\n"
     ]
    },
    {
     "name": "stdout",
     "output_type": "stream",
     "text": [
      "40320\n"
     ]
    }
   ],
   "source": [
    "temp=1\n",
    "x=int(input(\"Enter a number\"))\n",
    "for i in range(x,0,-1):\n",
    "    temp=temp*i\n",
    "print(temp)\n"
   ]
  },
  {
   "cell_type": "code",
   "execution_count": null,
   "id": "ac988df4-def6-4dbe-9312-414fcc07ff86",
   "metadata": {},
   "outputs": [],
   "source": []
  }
 ],
 "metadata": {
  "kernelspec": {
   "display_name": "Python 3 (ipykernel)",
   "language": "python",
   "name": "python3"
  },
  "language_info": {
   "codemirror_mode": {
    "name": "ipython",
    "version": 3
   },
   "file_extension": ".py",
   "mimetype": "text/x-python",
   "name": "python",
   "nbconvert_exporter": "python",
   "pygments_lexer": "ipython3",
   "version": "3.10.12"
  }
 },
 "nbformat": 4,
 "nbformat_minor": 5
}
